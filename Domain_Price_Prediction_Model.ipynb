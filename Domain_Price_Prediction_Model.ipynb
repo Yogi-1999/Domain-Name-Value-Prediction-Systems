{
  "nbformat": 4,
  "nbformat_minor": 0,
  "metadata": {
    "colab": {
      "provenance": [],
      "authorship_tag": "ABX9TyOxUTWclRe5B22AQX5rGXOl",
      "include_colab_link": true
    },
    "kernelspec": {
      "name": "python3",
      "display_name": "Python 3"
    },
    "language_info": {
      "name": "python"
    }
  },
  "cells": [
    {
      "cell_type": "markdown",
      "metadata": {
        "id": "view-in-github",
        "colab_type": "text"
      },
      "source": [
        "<a href=\"https://colab.research.google.com/github/Yogi-1999/Domain-Name-Value-Prediction-Systems/blob/main/Domain_Price_Prediction_Model.ipynb\" target=\"_parent\"><img src=\"https://colab.research.google.com/assets/colab-badge.svg\" alt=\"Open In Colab\"/></a>"
      ]
    },
    {
      "cell_type": "code",
      "execution_count": 1,
      "metadata": {
        "id": "IJ2QAK-EQZZC"
      },
      "outputs": [],
      "source": [
        "import pandas as pd\n",
        "import numpy as np\n",
        "import seaborn as sns\n",
        "import matplotlib.pyplot as plt\n",
        "%matplotlib inline\n",
        "import warnings\n",
        "warnings.filterwarnings(\"ignore\")"
      ]
    },
    {
      "cell_type": "code",
      "source": [
        "import numpy as np\n",
        "import pandas as pd\n",
        "import seaborn as sns\n",
        "from pylab import rcParams\n",
        "import matplotlib.pyplot as plt\n",
        "import matplotlib.animation as animation\n",
        "from matplotlib import rc\n",
        "import unittest\n",
        "\n",
        "%matplotlib inline\n",
        "\n",
        "sns.set(style='whitegrid', palette='muted', font_scale=1.5)\n",
        "\n",
        "rcParams['figure.figsize'] = 14, 8\n",
        "\n",
        "RANDOM_SEED = 42\n",
        "\n",
        "np.random.seed(RANDOM_SEED)\n",
        "\n",
        "def run_tests():\n",
        "  unittest.main(argv=[''], verbosity=1, exit=False)"
      ],
      "metadata": {
        "id": "oBq-AcCVmWuM"
      },
      "execution_count": 2,
      "outputs": []
    },
    {
      "cell_type": "code",
      "source": [
        "from google.colab import drive\n",
        "drive.mount('/content/drive')"
      ],
      "metadata": {
        "colab": {
          "base_uri": "https://localhost:8080/"
        },
        "id": "JYKo9U0-eCpB",
        "outputId": "8125f653-8561-4a27-86f1-078f6bfa0339"
      },
      "execution_count": 3,
      "outputs": [
        {
          "output_type": "stream",
          "name": "stdout",
          "text": [
            "Drive already mounted at /content/drive; to attempt to forcibly remount, call drive.mount(\"/content/drive\", force_remount=True).\n"
          ]
        }
      ]
    },
    {
      "cell_type": "code",
      "source": [
        "train = pd.read_csv('drive/My Drive/Colab Notebooks/coursework_data.csv')\n",
        "train.head()"
      ],
      "metadata": {
        "colab": {
          "base_uri": "https://localhost:8080/",
          "height": 206
        },
        "id": "4b9d84UbeNwv",
        "outputId": "10e64235-c0fa-4966-e706-962b82fbe684"
      },
      "execution_count": 4,
      "outputs": [
        {
          "output_type": "execute_result",
          "data": {
            "text/plain": [
              "                  Domain  category\n",
              "0     noriomatsumoto.com         1\n",
              "1       haplessmales.com         1\n",
              "2    shivamchatuvedi.com         1\n",
              "3  dailyfreebieoffer.com         1\n",
              "4          poniemall.com         1"
            ],
            "text/html": [
              "\n",
              "  <div id=\"df-b2ced99f-ec07-40fc-9fdb-6ff5e4bec8ea\">\n",
              "    <div class=\"colab-df-container\">\n",
              "      <div>\n",
              "<style scoped>\n",
              "    .dataframe tbody tr th:only-of-type {\n",
              "        vertical-align: middle;\n",
              "    }\n",
              "\n",
              "    .dataframe tbody tr th {\n",
              "        vertical-align: top;\n",
              "    }\n",
              "\n",
              "    .dataframe thead th {\n",
              "        text-align: right;\n",
              "    }\n",
              "</style>\n",
              "<table border=\"1\" class=\"dataframe\">\n",
              "  <thead>\n",
              "    <tr style=\"text-align: right;\">\n",
              "      <th></th>\n",
              "      <th>Domain</th>\n",
              "      <th>category</th>\n",
              "    </tr>\n",
              "  </thead>\n",
              "  <tbody>\n",
              "    <tr>\n",
              "      <th>0</th>\n",
              "      <td>noriomatsumoto.com</td>\n",
              "      <td>1</td>\n",
              "    </tr>\n",
              "    <tr>\n",
              "      <th>1</th>\n",
              "      <td>haplessmales.com</td>\n",
              "      <td>1</td>\n",
              "    </tr>\n",
              "    <tr>\n",
              "      <th>2</th>\n",
              "      <td>shivamchatuvedi.com</td>\n",
              "      <td>1</td>\n",
              "    </tr>\n",
              "    <tr>\n",
              "      <th>3</th>\n",
              "      <td>dailyfreebieoffer.com</td>\n",
              "      <td>1</td>\n",
              "    </tr>\n",
              "    <tr>\n",
              "      <th>4</th>\n",
              "      <td>poniemall.com</td>\n",
              "      <td>1</td>\n",
              "    </tr>\n",
              "  </tbody>\n",
              "</table>\n",
              "</div>\n",
              "      <button class=\"colab-df-convert\" onclick=\"convertToInteractive('df-b2ced99f-ec07-40fc-9fdb-6ff5e4bec8ea')\"\n",
              "              title=\"Convert this dataframe to an interactive table.\"\n",
              "              style=\"display:none;\">\n",
              "        \n",
              "  <svg xmlns=\"http://www.w3.org/2000/svg\" height=\"24px\"viewBox=\"0 0 24 24\"\n",
              "       width=\"24px\">\n",
              "    <path d=\"M0 0h24v24H0V0z\" fill=\"none\"/>\n",
              "    <path d=\"M18.56 5.44l.94 2.06.94-2.06 2.06-.94-2.06-.94-.94-2.06-.94 2.06-2.06.94zm-11 1L8.5 8.5l.94-2.06 2.06-.94-2.06-.94L8.5 2.5l-.94 2.06-2.06.94zm10 10l.94 2.06.94-2.06 2.06-.94-2.06-.94-.94-2.06-.94 2.06-2.06.94z\"/><path d=\"M17.41 7.96l-1.37-1.37c-.4-.4-.92-.59-1.43-.59-.52 0-1.04.2-1.43.59L10.3 9.45l-7.72 7.72c-.78.78-.78 2.05 0 2.83L4 21.41c.39.39.9.59 1.41.59.51 0 1.02-.2 1.41-.59l7.78-7.78 2.81-2.81c.8-.78.8-2.07 0-2.86zM5.41 20L4 18.59l7.72-7.72 1.47 1.35L5.41 20z\"/>\n",
              "  </svg>\n",
              "      </button>\n",
              "      \n",
              "  <style>\n",
              "    .colab-df-container {\n",
              "      display:flex;\n",
              "      flex-wrap:wrap;\n",
              "      gap: 12px;\n",
              "    }\n",
              "\n",
              "    .colab-df-convert {\n",
              "      background-color: #E8F0FE;\n",
              "      border: none;\n",
              "      border-radius: 50%;\n",
              "      cursor: pointer;\n",
              "      display: none;\n",
              "      fill: #1967D2;\n",
              "      height: 32px;\n",
              "      padding: 0 0 0 0;\n",
              "      width: 32px;\n",
              "    }\n",
              "\n",
              "    .colab-df-convert:hover {\n",
              "      background-color: #E2EBFA;\n",
              "      box-shadow: 0px 1px 2px rgba(60, 64, 67, 0.3), 0px 1px 3px 1px rgba(60, 64, 67, 0.15);\n",
              "      fill: #174EA6;\n",
              "    }\n",
              "\n",
              "    [theme=dark] .colab-df-convert {\n",
              "      background-color: #3B4455;\n",
              "      fill: #D2E3FC;\n",
              "    }\n",
              "\n",
              "    [theme=dark] .colab-df-convert:hover {\n",
              "      background-color: #434B5C;\n",
              "      box-shadow: 0px 1px 3px 1px rgba(0, 0, 0, 0.15);\n",
              "      filter: drop-shadow(0px 1px 2px rgba(0, 0, 0, 0.3));\n",
              "      fill: #FFFFFF;\n",
              "    }\n",
              "  </style>\n",
              "\n",
              "      <script>\n",
              "        const buttonEl =\n",
              "          document.querySelector('#df-b2ced99f-ec07-40fc-9fdb-6ff5e4bec8ea button.colab-df-convert');\n",
              "        buttonEl.style.display =\n",
              "          google.colab.kernel.accessAllowed ? 'block' : 'none';\n",
              "\n",
              "        async function convertToInteractive(key) {\n",
              "          const element = document.querySelector('#df-b2ced99f-ec07-40fc-9fdb-6ff5e4bec8ea');\n",
              "          const dataTable =\n",
              "            await google.colab.kernel.invokeFunction('convertToInteractive',\n",
              "                                                     [key], {});\n",
              "          if (!dataTable) return;\n",
              "\n",
              "          const docLinkHtml = 'Like what you see? Visit the ' +\n",
              "            '<a target=\"_blank\" href=https://colab.research.google.com/notebooks/data_table.ipynb>data table notebook</a>'\n",
              "            + ' to learn more about interactive tables.';\n",
              "          element.innerHTML = '';\n",
              "          dataTable['output_type'] = 'display_data';\n",
              "          await google.colab.output.renderOutput(dataTable, element);\n",
              "          const docLink = document.createElement('div');\n",
              "          docLink.innerHTML = docLinkHtml;\n",
              "          element.appendChild(docLink);\n",
              "        }\n",
              "      </script>\n",
              "    </div>\n",
              "  </div>\n",
              "  "
            ]
          },
          "metadata": {},
          "execution_count": 4
        }
      ]
    },
    {
      "cell_type": "code",
      "source": [
        "train.info()"
      ],
      "metadata": {
        "colab": {
          "base_uri": "https://localhost:8080/"
        },
        "id": "LFtAaQLdf1wN",
        "outputId": "5e20767c-7c05-4c30-a375-a96b8778e973"
      },
      "execution_count": 5,
      "outputs": [
        {
          "output_type": "stream",
          "name": "stdout",
          "text": [
            "<class 'pandas.core.frame.DataFrame'>\n",
            "RangeIndex: 10000 entries, 0 to 9999\n",
            "Data columns (total 2 columns):\n",
            " #   Column    Non-Null Count  Dtype \n",
            "---  ------    --------------  ----- \n",
            " 0   Domain    10000 non-null  object\n",
            " 1   category  10000 non-null  int64 \n",
            "dtypes: int64(1), object(1)\n",
            "memory usage: 156.4+ KB\n"
          ]
        }
      ]
    },
    {
      "cell_type": "code",
      "source": [
        "train.columns"
      ],
      "metadata": {
        "colab": {
          "base_uri": "https://localhost:8080/"
        },
        "id": "bvn3l690f_sl",
        "outputId": "f0865226-e83a-4665-9727-c1fa3f74450a"
      },
      "execution_count": 6,
      "outputs": [
        {
          "output_type": "execute_result",
          "data": {
            "text/plain": [
              "Index(['Domain', 'category'], dtype='object')"
            ]
          },
          "metadata": {},
          "execution_count": 6
        }
      ]
    },
    {
      "cell_type": "code",
      "source": [
        "train.dtypes"
      ],
      "metadata": {
        "colab": {
          "base_uri": "https://localhost:8080/"
        },
        "id": "oQ0ZrcHxhmLC",
        "outputId": "a492518c-89b5-4e1b-e6c6-e68ad520e1c7"
      },
      "execution_count": 7,
      "outputs": [
        {
          "output_type": "execute_result",
          "data": {
            "text/plain": [
              "Domain      object\n",
              "category     int64\n",
              "dtype: object"
            ]
          },
          "metadata": {},
          "execution_count": 7
        }
      ]
    },
    {
      "cell_type": "code",
      "source": [
        "train['Domain'].describe()"
      ],
      "metadata": {
        "colab": {
          "base_uri": "https://localhost:8080/"
        },
        "id": "Hf5usa5Ci4oF",
        "outputId": "7130e60f-4035-4911-c84d-fef2002c12e3"
      },
      "execution_count": 8,
      "outputs": [
        {
          "output_type": "execute_result",
          "data": {
            "text/plain": [
              "count                  10000\n",
              "unique                 10000\n",
              "top       noriomatsumoto.com\n",
              "freq                       1\n",
              "Name: Domain, dtype: object"
            ]
          },
          "metadata": {},
          "execution_count": 8
        }
      ]
    },
    {
      "cell_type": "code",
      "source": [
        "sns.distplot(train['category']);"
      ],
      "metadata": {
        "colab": {
          "base_uri": "https://localhost:8080/",
          "height": 515
        },
        "id": "IUb0e-Z6i4qd",
        "outputId": "eaa94f2a-eea0-476d-e798-2365dc5e9749"
      },
      "execution_count": 9,
      "outputs": [
        {
          "output_type": "display_data",
          "data": {
            "text/plain": [
              "<Figure size 1008x576 with 1 Axes>"
            ],
            "image/png": "[encoded data removed]"
          },
          "metadata": {}
        }
      ]
    },
    {
      "cell_type": "code",
      "source": [
        "train.shape"
      ],
      "metadata": {
        "colab": {
          "base_uri": "https://localhost:8080/"
        },
        "id": "gNm8cYjzi410",
        "outputId": "836ac08d-8a68-44f2-be67-629fe9c7d445"
      },
      "execution_count": 10,
      "outputs": [
        {
          "output_type": "execute_result",
          "data": {
            "text/plain": [
              "(10000, 2)"
            ]
          },
          "metadata": {},
          "execution_count": 10
        }
      ]
    },
    {
      "cell_type": "code",
      "source": [
        "train['Domain'].value_counts()"
      ],
      "metadata": {
        "colab": {
          "base_uri": "https://localhost:8080/"
        },
        "id": "RmjGGMsFi44A",
        "outputId": "c21e6f27-98fe-4b1d-f9a6-ef4a868f210a"
      },
      "execution_count": 11,
      "outputs": [
        {
          "output_type": "execute_result",
          "data": {
            "text/plain": [
              "noriomatsumoto.com              1\n",
              "digitalmarketingbusiness.com    1\n",
              "toneflex.com                    1\n",
              "vocify.com                      1\n",
              "custsupport.com                 1\n",
              "                               ..\n",
              "terraintegrationservices.com    1\n",
              "livergea.com                    1\n",
              "rawglowingskincare.com          1\n",
              "bloggingking07.com              1\n",
              "stemz.com                       1\n",
              "Name: Domain, Length: 10000, dtype: int64"
            ]
          },
          "metadata": {},
          "execution_count": 11
        }
      ]
    },
    {
      "cell_type": "code",
      "source": [
        "train['Domain'].value_counts(normalize=True)"
      ],
      "metadata": {
        "colab": {
          "base_uri": "https://localhost:8080/"
        },
        "id": "9SLpfQUni46a",
        "outputId": "8ab22155-322d-480f-e5fa-9072e668cddc"
      },
      "execution_count": 12,
      "outputs": [
        {
          "output_type": "execute_result",
          "data": {
            "text/plain": [
              "noriomatsumoto.com              0.0001\n",
              "digitalmarketingbusiness.com    0.0001\n",
              "toneflex.com                    0.0001\n",
              "vocify.com                      0.0001\n",
              "custsupport.com                 0.0001\n",
              "                                 ...  \n",
              "terraintegrationservices.com    0.0001\n",
              "livergea.com                    0.0001\n",
              "rawglowingskincare.com          0.0001\n",
              "bloggingking07.com              0.0001\n",
              "stemz.com                       0.0001\n",
              "Name: Domain, Length: 10000, dtype: float64"
            ]
          },
          "metadata": {},
          "execution_count": 12
        }
      ]
    },
    {
      "cell_type": "code",
      "source": [
        "# train['Domain'].value_counts(normalize=True).plot.bar(figsize=(20,10), title='Domain')\n",
        "# plt.show()\n",
        "train['category'].value_counts(normalize=True).plot.bar(title='category')\n",
        "plt.show()\n",
        "# train['Self_Employed'].value_counts(normalize=True).plot.bar(title='Self_Employed')\n",
        "# plt.show()\n",
        "# train['Credit_History'].value_counts(normalize=True).plot.bar(title='Credit_History')\n",
        "# plt.show()"
      ],
      "metadata": {
        "colab": {
          "base_uri": "https://localhost:8080/",
          "height": 506
        },
        "id": "V79vB6u6Wr9g",
        "outputId": "40b1dad8-66ad-4aea-8442-07236d600ca9"
      },
      "execution_count": 13,
      "outputs": [
        {
          "output_type": "display_data",
          "data": {
            "text/plain": [
              "<Figure size 1008x576 with 1 Axes>"
            ],
            "image/png": "[encoded data removed]"
          },
          "metadata": {}
        }
      ]
    },
    {
      "cell_type": "code",
      "source": [
        "genres = np.unique(train['Domain'])\n",
        "genres"
      ],
      "metadata": {
        "colab": {
          "base_uri": "https://localhost:8080/"
        },
        "id": "Offg61xzpa1i",
        "outputId": "0d13499c-55dd-4c4d-d49d-74a39d330ad7"
      },
      "execution_count": 14,
      "outputs": [
        {
          "output_type": "execute_result",
          "data": {
            "text/plain": [
              "array(['006441.com', '00858722.com', '01018.com', ..., 'zzjs66.com',\n",
              "       'zzz13.com', 'zzzz0011.com'], dtype=object)"
            ]
          },
          "metadata": {},
          "execution_count": 14
        }
      ]
    },
    {
      "cell_type": "code",
      "source": [
        "from sklearn.preprocessing import LabelEncoder\n",
        "\n",
        "gle = LabelEncoder()\n",
        "genre_labels = gle.fit_transform(train['Domain'])\n",
        "genre_mappings = {index: label for index, label in enumerate(gle.classes_)}\n",
        "genre_mappings"
      ],
      "metadata": {
        "colab": {
          "base_uri": "https://localhost:8080/"
        },
        "id": "zKU-0qFGpa31",
        "outputId": "177c34ce-0f30-4d33-f288-91bd4b46ca22"
      },
      "execution_count": 15,
      "outputs": [
        {
          "output_type": "execute_result",
          "data": {
            "text/plain": [
              "{0: '006441.com',\n",
              " 1: '00858722.com',\n",
              " 2: '01018.com',\n",
              " 3: '012256.com',\n",
              " 4: '018236.com',\n",
              " 5: '019704.com',\n",
              " 6: '0207250.com',\n",
              " 7: '0207m.com',\n",
              " 8: '0218dr.com',\n",
              " 9: '021mmm.com',\n",
              " 10: '028mmt.com',\n",
              " 11: '0295store.com',\n",
              " 12: '030588.com',\n",
              " 13: '0356dianqi.com',\n",
              " 14: '0452hz.com',\n",
              " 15: '0510vns.com',\n",
              " 16: '0554zk.com',\n",
              " 17: '0596art.com',\n",
              " 18: '0620556.com',\n",
              " 19: '062690.com',\n",
              " 20: '069212.com',\n",
              " 21: '0767933.com',\n",
              " 22: '076961.com',\n",
              " 23: '076xx.com',\n",
              " 24: '07rryoviwc.com',\n",
              " 25: '085464.com',\n",
              " 26: '086767.com',\n",
              " 27: '095181.com',\n",
              " 28: '098533.com',\n",
              " 29: '0oo0.com',\n",
              " 30: '0v.com',\n",
              " 31: '1001consejos.com',\n",
              " 32: '100atms.com',\n",
              " 33: '100c.com',\n",
              " 34: '100mercaditos.com',\n",
              " 35: '101shift.com',\n",
              " 36: '1023ashebridge.com',\n",
              " 37: '106bthepalisades.com',\n",
              " 38: '10bestcreditcardsnofees.com',\n",
              " 39: '10jerky.com',\n",
              " 40: '10parklawn-201.com',\n",
              " 41: '111tinting.com',\n",
              " 42: '1177997.com',\n",
              " 43: '1187525.com',\n",
              " 44: '1201sanchez.com',\n",
              " 45: '122qi.com',\n",
              " 46: '1234fireworks.com',\n",
              " 47: '123securelife.com',\n",
              " 48: '124719.com',\n",
              " 49: '1267joycasino.com',\n",
              " 50: '1336brookdaledr.com',\n",
              " 51: '138cp455.com',\n",
              " 52: '13ava.com',\n",
              " 53: '13oceanavebellmore.com',\n",
              " 54: '140csm.com',\n",
              " 55: '14220apartmentsatparkrow.com',\n",
              " 56: '1473hughes.com',\n",
              " 57: '1494.com',\n",
              " 58: '1517brunswig.com',\n",
              " 59: '1559317327700thisissuperfake.com',\n",
              " 60: '155ban.com',\n",
              " 61: '158894.com',\n",
              " 62: '16177fa.com',\n",
              " 63: '16188.com',\n",
              " 64: '1646e.com',\n",
              " 65: '1668cresthillway.com',\n",
              " 66: '168168come.com',\n",
              " 67: '16865j.com',\n",
              " 68: '1688arzy.com',\n",
              " 69: '16kaiche.com',\n",
              " 70: '17168bb.com',\n",
              " 71: '1731lasuen.com',\n",
              " 72: '179960.com',\n",
              " 73: '17jjr.com',\n",
              " 74: '1800atfault.com',\n",
              " 75: '1800soccers.com',\n",
              " 76: '185749.com',\n",
              " 77: '185905.com',\n",
              " 78: '18ddse.com',\n",
              " 79: '18jialu.com',\n",
              " 80: '18llll.com',\n",
              " 81: '1921voorhees.com',\n",
              " 82: '192pay.com',\n",
              " 83: '193504.com',\n",
              " 84: '194854.com',\n",
              " 85: '195514.com',\n",
              " 86: '197cp09.com',\n",
              " 87: '19868037.com',\n",
              " 88: '19ellis.com',\n",
              " 89: '19jian.com',\n",
              " 90: '19jjaa.com',\n",
              " 91: '19vip174.com',\n",
              " 92: '19vip50.com',\n",
              " 93: '1businessbank.com',\n",
              " 94: '1byland.com',\n",
              " 95: '1clickloan.com',\n",
              " 96: '1daymasterclass.com',\n",
              " 97: '1dkm.com',\n",
              " 98: '1fmn.com',\n",
              " 99: '1game.com',\n",
              " 100: '1infomanagement.com',\n",
              " 101: '1ka.com',\n",
              " 102: '1lucky1972.com',\n",
              " 103: '1minuteideas.com',\n",
              " 104: '1on1phs.com',\n",
              " 105: '1qpqpqpilillil1ililo0oillllilil1l1i1l1l1l1.com',\n",
              " 106: '20017772.com',\n",
              " 107: '2008diy.com',\n",
              " 108: '2012eastbroadway.com',\n",
              " 109: '2020graduationsign.com',\n",
              " 110: '2020summernow.com',\n",
              " 111: '2020unclaimedassets.com',\n",
              " 112: '206berkindale.com',\n",
              " 113: '207197.com',\n",
              " 114: '20iav.com',\n",
              " 115: '20s44a.com',\n",
              " 116: '211333f.com',\n",
              " 117: '212realty.com',\n",
              " 118: '2174cannonball.com',\n",
              " 119: '21stcentury-remodeling.com',\n",
              " 120: '22qzz.com',\n",
              " 121: '234feasdf23radfawefdasfasdfasdf.com',\n",
              " 122: '2362w.com',\n",
              " 123: '2426carpenterstreet.com',\n",
              " 124: '244wesley.com',\n",
              " 125: '247-lasvegas.com',\n",
              " 126: '247alerts.com',\n",
              " 127: '247builders.com',\n",
              " 128: '247lu.com',\n",
              " 129: '24eskiistanbul.com',\n",
              " 130: '253ehihu.com',\n",
              " 131: '257650.com',\n",
              " 132: '257716.com',\n",
              " 133: '2689837.com',\n",
              " 134: '26950f.com',\n",
              " 135: '2700955.com',\n",
              " 136: '27759666.com',\n",
              " 137: '278756.com',\n",
              " 138: '27876.com',\n",
              " 139: '289304.com',\n",
              " 140: '2906ii.com',\n",
              " 141: '2908belharbour.com',\n",
              " 142: '2918899.com',\n",
              " 143: '2976986.com',\n",
              " 144: '29ttl.com',\n",
              " 145: '2aforfelons.com',\n",
              " 146: '2carter.com',\n",
              " 147: '2dogs.com',\n",
              " 148: '2gt67x.com',\n",
              " 149: '2lane.com',\n",
              " 150: '2my7whbwsz7bzp.com',\n",
              " 151: '2oee.com',\n",
              " 152: '2orbits.com',\n",
              " 153: '2pp4.com',\n",
              " 154: '2vhk.com',\n",
              " 155: '2vonv.com',\n",
              " 156: '2xinvest.com',\n",
              " 157: '2ycp22.com',\n",
              " 158: '302936.com',\n",
              " 159: '303390.com',\n",
              " 160: '310571.com',\n",
              " 161: '31homeoffice.com',\n",
              " 162: '3212252.com',\n",
              " 163: '3231858.com',\n",
              " 164: '32691.com',\n",
              " 165: '331as.com',\n",
              " 166: '331wz.com',\n",
              " 167: '3377sp.com',\n",
              " 168: '3400nterritorialrdw.com',\n",
              " 169: '34444vip.com',\n",
              " 170: '345fishermills-306.com',\n",
              " 171: '3483almavillage.com',\n",
              " 172: '34lillyvalleycres.com',\n",
              " 173: '3535heilongjiang.com',\n",
              " 174: '358824.com',\n",
              " 175: '3608stewartave.com',\n",
              " 176: '360directorycre.com',\n",
              " 177: '360mediavenues.com',\n",
              " 178: '360play.com',\n",
              " 179: '360ppw.com',\n",
              " 180: '365277m.com',\n",
              " 181: '365slide.com',\n",
              " 182: '365u.com',\n",
              " 183: '37077app.com',\n",
              " 184: '371jiaoyou.com',\n",
              " 185: '37858app.com',\n",
              " 186: '380001.com',\n",
              " 187: '381242.com',\n",
              " 188: '3813806.com',\n",
              " 189: '386429.com',\n",
              " 190: '386890.com',\n",
              " 191: '38a4e707.com',\n",
              " 192: '391647.com',\n",
              " 193: '3940sw106terrace.com',\n",
              " 194: '39919k.com',\n",
              " 195: '3996630.com',\n",
              " 196: '3baytreasures.com',\n",
              " 197: '3d6731.com',\n",
              " 198: '3d8570.com',\n",
              " 199: '3d9350.com',\n",
              " 200: '3dconsole.com',\n",
              " 201: '3dshoes.com',\n",
              " 202: '3dterrainmapsutah.com',\n",
              " 203: '3percent.com',\n",
              " 204: '3pix.com',\n",
              " 205: '3pointc.com',\n",
              " 206: '3tq.com',\n",
              " 207: '3w.com',\n",
              " 208: '4008haley.com',\n",
              " 209: '400c.com',\n",
              " 210: '400hkt.com',\n",
              " 211: '401790.com',\n",
              " 212: '401oceandr722.com',\n",
              " 213: '4035hoosierlawnway.com',\n",
              " 214: '4058larwin.com',\n",
              " 215: '40woyc.com',\n",
              " 216: '4102e.com',\n",
              " 217: '419.com',\n",
              " 218: '4237s.com',\n",
              " 219: '42curzonst-105.com',\n",
              " 220: '437851.com',\n",
              " 221: '438784.com',\n",
              " 222: '440julian.com',\n",
              " 223: '44ylgj.com',\n",
              " 224: '465682.com',\n",
              " 225: '467305.com',\n",
              " 226: '4701.com',\n",
              " 227: '475414.com',\n",
              " 228: '48-pay.com',\n",
              " 229: '487468.com',\n",
              " 230: '48xpjcp.com',\n",
              " 231: '495909.com',\n",
              " 232: '49945b.com',\n",
              " 233: '4cellphones.com',\n",
              " 234: '4dmold.com',\n",
              " 235: '4gg.com',\n",
              " 236: '4healthinsurance.com',\n",
              " 237: '4iran.com',\n",
              " 238: '4legante.com',\n",
              " 239: '4oraiontv.com',\n",
              " 240: '4pawsboutiqueandaccessory.com',\n",
              " 241: '4rtb.com',\n",
              " 242: '4seniors.com',\n",
              " 243: '4skynz.com',\n",
              " 244: '4starhotel.com',\n",
              " 245: '4venir.com',\n",
              " 246: '4x400.com',\n",
              " 247: '4y0.com',\n",
              " 248: '500cp20.com',\n",
              " 249: '502066.com',\n",
              " 250: '5047488.com',\n",
              " 251: '504813.com',\n",
              " 252: '505mov.com',\n",
              " 253: '5092533.com',\n",
              " 254: '5099l.com',\n",
              " 255: '511908.com',\n",
              " 256: '517403.com',\n",
              " 257: '519qq.com',\n",
              " 258: '51ale.com',\n",
              " 259: '51faqun.com',\n",
              " 260: '51naming.com',\n",
              " 261: '520vrbox.com',\n",
              " 262: '5210.com',\n",
              " 263: '522by.com',\n",
              " 264: '5254165.com',\n",
              " 265: '5267727.com',\n",
              " 266: '529419.com',\n",
              " 267: '52bxqp.com',\n",
              " 268: '52paocai.com',\n",
              " 269: '5368799.com',\n",
              " 270: '53699ab.com',\n",
              " 271: '53d09.com',\n",
              " 272: '53jjb.com',\n",
              " 273: '542381.com',\n",
              " 274: '547848.com',\n",
              " 275: '551zx.com',\n",
              " 276: '5532592.com',\n",
              " 277: '553shenbo.com',\n",
              " 278: '55harvardstislip.com',\n",
              " 279: '55south.com',\n",
              " 280: '56262xiazai.com',\n",
              " 281: '5630012.com',\n",
              " 282: '564sarah.com',\n",
              " 283: '5744brookstown.com',\n",
              " 284: '576473.com',\n",
              " 285: '578836.com',\n",
              " 286: '579737.com',\n",
              " 287: '57yddj.com',\n",
              " 288: '5889379.com',\n",
              " 289: '5899226.com',\n",
              " 290: '58igou.com',\n",
              " 291: '5900422.com',\n",
              " 292: '592128.com',\n",
              " 293: '5936365.com',\n",
              " 294: '59didi.com',\n",
              " 295: '5b86663.com',\n",
              " 296: '5bdigitalsummit.com',\n",
              " 297: '5brightwood.com',\n",
              " 298: '5cash.com',\n",
              " 299: '5glimitations.com',\n",
              " 300: '5gtelecomunicaciones.com',\n",
              " 301: '5jhe.com',\n",
              " 302: '5kk55.com',\n",
              " 303: '5kmagic.com',\n",
              " 304: '5q0o.com',\n",
              " 305: '5starcarrepair.com',\n",
              " 306: '6010u.com',\n",
              " 307: '6026langhammist.com',\n",
              " 308: '602nightmarket.com',\n",
              " 309: '603000.com',\n",
              " 310: '604801.com',\n",
              " 311: '6089aa.com',\n",
              " 312: '60i0203egb.com',\n",
              " 313: '60woool.com',\n",
              " 314: '62288c.com',\n",
              " 315: '6317rambleforddrive.com',\n",
              " 316: '6446.com',\n",
              " 317: '645315.com',\n",
              " 318: '652262.com',\n",
              " 319: '66009918a.com',\n",
              " 320: '6637636.com',\n",
              " 321: '666-pengqi.com',\n",
              " 322: '6666ndyl.com',\n",
              " 323: '67569h.com',\n",
              " 324: '6767uc.com',\n",
              " 325: '678604.com',\n",
              " 326: '678635.com',\n",
              " 327: '67a10.com',\n",
              " 328: '67kvkv.com',\n",
              " 329: '680160.com',\n",
              " 330: '69500w.com',\n",
              " 331: '6c11.com',\n",
              " 332: '6e776.com',\n",
              " 333: '6f.com',\n",
              " 334: '6figureincome.com',\n",
              " 335: '713collectionllc.com',\n",
              " 336: '71588o.com',\n",
              " 337: '71yys.com',\n",
              " 338: '7237tt.com',\n",
              " 339: '724589.com',\n",
              " 340: '72653ysb.com',\n",
              " 341: '7308m.com',\n",
              " 342: '7341featherstoneblvd.com',\n",
              " 343: '739033.com',\n",
              " 344: '73pcs.com',\n",
              " 345: '743864.com',\n",
              " 346: '748939.com',\n",
              " 347: '756075.com',\n",
              " 348: '758249.com',\n",
              " 349: '75999xx.com',\n",
              " 350: '76chengo.com',\n",
              " 351: '770dd.com',\n",
              " 352: '7711nn.com',\n",
              " 353: '77527.com',\n",
              " 354: '77maroc.com',\n",
              " 355: '789478a.com',\n",
              " 356: '78z2.com',\n",
              " 357: '7959215.com',\n",
              " 358: '796439.com',\n",
              " 359: '79uub.com',\n",
              " 360: '7clang150.com',\n",
              " 361: '7h8vcn.com',\n",
              " 362: '7ime.com',\n",
              " 363: '7th.com',\n",
              " 364: '7uvi.com',\n",
              " 365: '7uywang.com',\n",
              " 366: '801painrelief.com',\n",
              " 367: '802212.com',\n",
              " 368: '802druidroad.com',\n",
              " 369: '804156.com',\n",
              " 370: '80susu.com',\n",
              " 371: '819nov.com',\n",
              " 372: '81zcw.com',\n",
              " 373: '8200455.com',\n",
              " 374: '82ptsp.com',\n",
              " 375: '832144.com',\n",
              " 376: '83330pk.com',\n",
              " 377: '834k66.com',\n",
              " 378: '835313.com',\n",
              " 379: '8353z.com',\n",
              " 380: '83tucn.com',\n",
              " 381: '840071.com',\n",
              " 382: '840355.com',\n",
              " 383: '8442x.com',\n",
              " 384: '853573.com',\n",
              " 385: '860326.com',\n",
              " 386: '8622n.com',\n",
              " 387: '86331010.com',\n",
              " 388: '8715725.com',\n",
              " 389: '872450.com',\n",
              " 390: '881xb.com',\n",
              " 391: '8829935.com',\n",
              " 392: '8834sj.com',\n",
              " 393: '887xyy.com',\n",
              " 394: '88877748.com',\n",
              " 395: '888970s.com',\n",
              " 396: '8894ky3.com',\n",
              " 397: '88sy6.com',\n",
              " 398: '88v85.com',\n",
              " 399: '894073.com',\n",
              " 400: '8949harvesthillway.com',\n",
              " 401: '8975792.com',\n",
              " 402: '89770hh.com',\n",
              " 403: '8983f.com',\n",
              " 404: '89866.com',\n",
              " 405: '89fh9-rdce.com',\n",
              " 406: '8avzz.com',\n",
              " 407: '8hdv.com',\n",
              " 408: '8parkwayrd.com',\n",
              " 409: '9001daytonway.com',\n",
              " 410: '90068.com',\n",
              " 411: '902666a.com',\n",
              " 412: '903003.com',\n",
              " 413: '911injurypro.com',\n",
              " 414: '913860.com',\n",
              " 415: '914165.com',\n",
              " 416: '9166880.com',\n",
              " 417: '917613.com',\n",
              " 418: '91bjsh.com',\n",
              " 419: '91cdc.com',\n",
              " 420: '91tianhui.com',\n",
              " 421: '921093.com',\n",
              " 422: '926325.com',\n",
              " 423: '9286663.com',\n",
              " 424: '92augusta.com',\n",
              " 425: '92smm.com',\n",
              " 426: '931659.com',\n",
              " 427: '947698.com',\n",
              " 428: '953646.com',\n",
              " 429: '9562r.com',\n",
              " 430: '95ting.com',\n",
              " 431: '95y7scnks3.com',\n",
              " 432: '960870.com',\n",
              " 433: '9777lu.com',\n",
              " 434: '9812o.com',\n",
              " 435: '986441.com',\n",
              " 436: '9877c.com',\n",
              " 437: '9917753.com',\n",
              " 438: '99499wnsr.com',\n",
              " 439: '997262.com',\n",
              " 440: '99776yh18l8l818.com',\n",
              " 441: '9990657.com',\n",
              " 442: '99998008.com',\n",
              " 443: '999bug.com',\n",
              " 444: '99jbr.com',\n",
              " 445: '99lqfyxu.com',\n",
              " 446: '9coin.com',\n",
              " 447: '9mq0.com',\n",
              " 448: '9ridgeroad.com',\n",
              " 449: '9sosup.com',\n",
              " 450: '9t3productions.com',\n",
              " 451: '9yxlm9.com',\n",
              " 452: 'a-lil-bit-of-lemon.com',\n",
              " 453: 'a-nation-once-again.com',\n",
              " 454: 'a13354820044.com',\n",
              " 455: 'a1capital.com',\n",
              " 456: 'a225298.com',\n",
              " 457: 'a252045297.com',\n",
              " 458: 'a2v.com',\n",
              " 459: 'a2zbestbuy.com',\n",
              " 460: 'a4d.com',\n",
              " 461: 'a8436.com',\n",
              " 462: 'a8jj21khjd8h1j2390.com',\n",
              " 463: 'a9multimediafilms.com',\n",
              " 464: 'aa888-aa888.com',\n",
              " 465: 'aa8da.com',\n",
              " 466: 'aaa249.com',\n",
              " 467: 'aaaaaa19.com',\n",
              " 468: 'aaaconcretingcolumbia.com',\n",
              " 469: 'aaaqqq19.com',\n",
              " 470: 'aaarentals.com',\n",
              " 471: 'aapkimarket.com',\n",
              " 472: 'aapp-amediaespecial.com',\n",
              " 473: 'aarsde.com',\n",
              " 474: 'aaruhigroup.com',\n",
              " 475: 'aasystems.com',\n",
              " 476: 'aatt33.com',\n",
              " 477: 'abc123.com',\n",
              " 478: 'abcbabynames.com',\n",
              " 479: 'abclick.com',\n",
              " 480: 'abconderzoeker.com',\n",
              " 481: 'abdulbaha.com',\n",
              " 482: 'abels.com',\n",
              " 483: 'aberdeenwatertaxi.com',\n",
              " 484: 'aberturasmendoza.com',\n",
              " 485: 'abetterchoice.com',\n",
              " 486: 'abhimods.com',\n",
              " 487: 'abigails-music.com',\n",
              " 488: 'abilitea.com',\n",
              " 489: 'ablsolutions.com',\n",
              " 490: 'aboutprofit.com',\n",
              " 491: 'aboveadvertising.com',\n",
              " 492: 'aboveflorida.com',\n",
              " 493: 'abrams2020.com',\n",
              " 494: 'abs-surf.com',\n",
              " 495: 'abscoaster.com',\n",
              " 496: 'abseid.com',\n",
              " 497: 'absent-minded-gm.com',\n",
              " 498: 'absolutefunky.com',\n",
              " 499: 'absolutelyyou.com',\n",
              " 500: 'absolutepayroll.com',\n",
              " 501: 'abudhabistopover.com',\n",
              " 502: 'abvimitchell.com',\n",
              " 503: 'abxd813614.com',\n",
              " 504: 'academyems.com',\n",
              " 505: 'acaweb.com',\n",
              " 506: 'accesboitevocalesmsmms.com',\n",
              " 507: 'accessfoodtech.com',\n",
              " 508: 'accessoricampeggio.com',\n",
              " 509: 'accessowebonline.com',\n",
              " 510: 'acchunt.com',\n",
              " 511: 'accinternationalagricultureandbiotechnologies.com',\n",
              " 512: 'accuratescreens.com',\n",
              " 513: 'accuristherapeutic.com',\n",
              " 514: 'acehydroponics.com',\n",
              " 515: 'acheimeucaro.com',\n",
              " 516: 'acheu.com',\n",
              " 517: 'acleanstart.com',\n",
              " 518: 'acmeprintware.com',\n",
              " 519: 'acompanhantescaxiasdosul.com',\n",
              " 520: 'acos-group.com',\n",
              " 521: 'acquamedia.com',\n",
              " 522: 'acquaway.com',\n",
              " 523: 'acro-nastics.com',\n",
              " 524: 'acstorebyandreatorres.com',\n",
              " 525: 'acstrckr.com',\n",
              " 526: 'acsurns.com',\n",
              " 527: 'actisana.com',\n",
              " 528: 'activebird.com',\n",
              " 529: 'activeguy.com',\n",
              " 530: 'activestealthtechnology.com',\n",
              " 531: 'activewearcloseout.com',\n",
              " 532: 'acupuncturenova.com',\n",
              " 533: 'adamandcarolyn.com',\n",
              " 534: 'adammurad.com',\n",
              " 535: 'adamspencermusic.com',\n",
              " 536: 'adanaevbul.com',\n",
              " 537: 'adaptschool.com',\n",
              " 538: 'adarshsanstha.com',\n",
              " 539: 'add2inches.com',\n",
              " 540: 'addconsent.com',\n",
              " 541: 'addressonline.com',\n",
              " 542: 'adelaidemobilehairandmakeup.com',\n",
              " 543: 'adelantos.com',\n",
              " 544: 'adelheidkopp.com',\n",
              " 545: 'adhex.com',\n",
              " 546: 'adhoc.com',\n",
              " 547: 'adinventory.com',\n",
              " 548: 'aditiconsulting.com',\n",
              " 549: 'adkxtwtjna.com',\n",
              " 550: 'administracao.com',\n",
              " 551: 'adnetworx.com',\n",
              " 552: 'adonis.com',\n",
              " 553: 'adore-decor.com',\n",
              " 554: 'adpark.com',\n",
              " 555: 'adplottermarketing.com',\n",
              " 556: 'adrastea.com',\n",
              " 557: 'adriancarvajal.com',\n",
              " 558: 'adriangreenwebdesign.com',\n",
              " 559: 'adrianmaritz.com',\n",
              " 560: 'ads-498t874gy76dfy98vgd987tw6trg.com',\n",
              " 561: 'adultcontacts.com',\n",
              " 562: 'advance.com',\n",
              " 563: 'advantagecpr.com',\n",
              " 564: 'advantes.com',\n",
              " 565: 'adventive.com',\n",
              " 566: 'adventure.com',\n",
              " 567: 'adventurecafe.com',\n",
              " 568: 'adventureessentials.com',\n",
              " 569: 'advisorradio.com',\n",
              " 570: 'ae6cfda3c1d3f198.com',\n",
              " 571: 'aegins.com',\n",
              " 572: 'aelist.com',\n",
              " 573: 'aeronomy.com',\n",
              " 574: 'aerowash.com',\n",
              " 575: 'aethera.com',\n",
              " 576: 'aezyx.com',\n",
              " 577: 'afam4adsm.com',\n",
              " 578: 'afatnassi.com',\n",
              " 579: 'affiliatemasteryguidebook.com',\n",
              " 580: 'affiliatetubesuccessacademyreview.com',\n",
              " 581: 'affirmit.com',\n",
              " 582: 'aflax.com',\n",
              " 583: 'afloatt.com',\n",
              " 584: 'afrobright.com',\n",
              " 585: 'afroditastyle.com',\n",
              " 586: 'afrosoft.com',\n",
              " 587: 'afterdawn-rp.com',\n",
              " 588: 'afunnyplace.com',\n",
              " 589: 'afxraclng.com',\n",
              " 590: 'ag5998.com',\n",
              " 591: 'ag7039.com',\n",
              " 592: 'ag82838.com',\n",
              " 593: 'ag83037.com',\n",
              " 594: 'ag85266.com',\n",
              " 595: 'ag85329.com',\n",
              " 596: 'ag88117.com',\n",
              " 597: 'agag60.com',\n",
              " 598: 'agapelivingroom.com',\n",
              " 599: 'agardenspot.com',\n",
              " 600: 'agenciafunnelsortiz.com',\n",
              " 601: 'agencymanagementsolutions.com',\n",
              " 602: 'agentdesigns.com',\n",
              " 603: 'agenziaeditoriale.com',\n",
              " 604: 'agespenergia.com',\n",
              " 605: 'agholding.com',\n",
              " 606: 'agileproductdevelopment.com',\n",
              " 607: 'agilitynews.com',\n",
              " 608: 'agoraplc.com',\n",
              " 609: 'agribot.com',\n",
              " 610: 'agrobolsas.com',\n",
              " 611: 'agrocapitalgroup.com',\n",
              " 612: 'agsense.com',\n",
              " 613: 'agsrv.com',\n",
              " 614: 'agtechmarket.com',\n",
              " 615: 'aguakangenmx.com',\n",
              " 616: 'agup.com',\n",
              " 617: 'aguzmanmodelodenegocio.com',\n",
              " 618: 'ahology.com',\n",
              " 619: 'ahrenovation.com',\n",
              " 620: 'ahwmedia.com',\n",
              " 621: 'ai-casinohacker.com',\n",
              " 622: 'aidatt-iadetrr.com',\n",
              " 623: 'aidenelliston.com',\n",
              " 624: 'aikane.com',\n",
              " 625: 'aileenamelia.com',\n",
              " 626: 'aimconsulting.com',\n",
              " 627: 'aimizuan.com',\n",
              " 628: 'aircompressorservices.com',\n",
              " 629: 'aircraftmetal.com',\n",
              " 630: 'aircraftsource.com',\n",
              " 631: 'airtelmailer.com',\n",
              " 632: 'aitgrc.com',\n",
              " 633: 'aitranslate.com',\n",
              " 634: 'aiu178.com',\n",
              " 635: 'aivip388.com',\n",
              " 636: 'aiyouyule810.com',\n",
              " 637: 'ajdesignembroidery.com',\n",
              " 638: 'ajeet-chadha.com',\n",
              " 639: 'ajewelry.com',\n",
              " 640: 'ajholidaylights.com',\n",
              " 641: 'ajihak.com',\n",
              " 642: 'ajnayogacenter.com',\n",
              " 643: 'ajqopdocoa.com',\n",
              " 644: 'ajuegosgratis.com',\n",
              " 645: 'akannsgardening.com',\n",
              " 646: 'akcreations.com',\n",
              " 647: 'akgrust.com',\n",
              " 648: 'akhtaralihosiery.com',\n",
              " 649: 'aknr.com',\n",
              " 650: 'akplumbingheating.com',\n",
              " 651: 'akreptilesuk.com',\n",
              " 652: 'aksfifth.com',\n",
              " 653: 'aksinghlicindia.com',\n",
              " 654: 'aktund88.com',\n",
              " 655: 'akyta.com',\n",
              " 656: 'alabamadisinfectors.com',\n",
              " 657: 'alabamatoday.com',\n",
              " 658: 'alakassam.com',\n",
              " 659: 'alarmsecurity.com',\n",
              " 660: 'alaskapictures.com',\n",
              " 661: 'alaskax.com',\n",
              " 662: 'alathiyurnambi.com',\n",
              " 663: 'alberghiroma.com',\n",
              " 664: 'albertamaverickparty.com',\n",
              " 665: 'albertastar.com',\n",
              " 666: 'albertastrong.com',\n",
              " 667: 'albufeira-vacation.com',\n",
              " 668: 'alcavellaofficial.com',\n",
              " 669: 'alchemyacademygroup.com',\n",
              " 670: 'ale94250.com',\n",
              " 671: 'aledocityguide.com',\n",
              " 672: 'alengavar.com',\n",
              " 673: 'alexanderangelides.com',\n",
              " 674: 'alexanderkasser.com',\n",
              " 675: 'alexandersskincare.com',\n",
              " 676: 'alexismccabe.com',\n",
              " 677: 'alexkalognomos.com',\n",
              " 678: 'alfa-coding.com',\n",
              " 679: 'alfatrust.com',\n",
              " 680: 'aliancaveiculoscaete.com',\n",
              " 681: 'aliaswireless.com',\n",
              " 682: 'aliceconibere.com',\n",
              " 683: 'alichat.com',\n",
              " 684: 'alikuralkan.com',\n",
              " 685: 'alinsafgroup.com',\n",
              " 686: 'alipotec.com',\n",
              " 687: 'alisenturkyapi.com',\n",
              " 688: 'alismartdropship.com',\n",
              " 689: 'alistgames.com',\n",
              " 690: 'alitopets.com',\n",
              " 691: 'alittlebit.com',\n",
              " 692: 'aliyevelchin.com',\n",
              " 693: 'all-americanpropertyservicesllc.com',\n",
              " 694: 'allaboutcolor.com',\n",
              " 695: 'allaboutmekids.com',\n",
              " 696: 'allanc.com',\n",
              " 697: 'allcities-it.com',\n",
              " 698: 'allhandstogether.com',\n",
              " 699: 'alliadosseguros.com',\n",
              " 700: 'allisontaylorfyc.com',\n",
              " 701: 'allittakes.com',\n",
              " 702: 'allmyconsumers.com',\n",
              " 703: 'allo-taxi.com',\n",
              " 704: 'allomatch.com',\n",
              " 705: 'allsetransporte.com',\n",
              " 706: 'allshampoo.com',\n",
              " 707: 'allthingsmasonic.com',\n",
              " 708: 'allureillusionslashandbeautybar.com',\n",
              " 709: 'allwestsales.com',\n",
              " 710: 'allyouneedtostart.com',\n",
              " 711: 'almalakisouq.com',\n",
              " 712: 'almanahilevents.com',\n",
              " 713: 'almendrosresidencial.com',\n",
              " 714: 'alohafinancialservices.com',\n",
              " 715: 'alphadesk.com',\n",
              " 716: 'alphaelectronics.com',\n",
              " 717: 'alphaprotectus.com',\n",
              " 718: 'alpharesidential.com',\n",
              " 719: 'alphasecuritysystems.com',\n",
              " 720: 'alphatreks.com',\n",
              " 721: 'alsalihtag.com',\n",
              " 722: 'altairmasks.com',\n",
              " 723: 'alternativefunds.com',\n",
              " 724: 'alternativeway.com',\n",
              " 725: 'alternitivetravelservices.com',\n",
              " 726: 'altimamedical.com',\n",
              " 727: 'altitudepartners.com',\n",
              " 728: 'altiussolar.com',\n",
              " 729: 'altriding.com',\n",
              " 730: 'aluzviolin.com',\n",
              " 731: 'alvisphotography.com',\n",
              " 732: 'alwaysfreedeliveries.com',\n",
              " 733: 'alwozm.com',\n",
              " 734: 'amaiz.com',\n",
              " 735: 'amandarosentel.com',\n",
              " 736: 'amarresefectivosyrapidos.com',\n",
              " 737: 'amasupermotonational.com',\n",
              " 738: 'amazingamerica.com',\n",
              " 739: 'amazingkidz.com',\n",
              " 740: 'amazonpearls.com',\n",
              " 741: 'ambasrygge.com',\n",
              " 742: 'ambassadorprogram.com',\n",
              " 743: 'ambookbd.com',\n",
              " 744: 'amboycityrealty.com',\n",
              " 745: 'amedia.com',\n",
              " 746: 'ameliorate.com',\n",
              " 747: 'amenazzyrd.com',\n",
              " 748: 'american-technology.com',\n",
              " 749: 'americanfoodservices.com',\n",
              " 750: 'americangrainco.com',\n",
              " 751: 'americanhearingcare.com',\n",
              " 752: 'americanlibra.com',\n",
              " 753: 'americanpreserve.com',\n",
              " 754: 'americanrepublican.com',\n",
              " 755: 'americantalc.com',\n",
              " 756: 'americanvetsclub.com',\n",
              " 757: 'americasfinestcalendars.com',\n",
              " 758: 'amerikanhastanesi.com',\n",
              " 759: 'ameritocracypodcast.com',\n",
              " 760: 'amerswer.com',\n",
              " 761: 'ameth-blog.com',\n",
              " 762: 'amhfcu.com',\n",
              " 763: 'amicabledivorce.com',\n",
              " 764: 'aminahali.com',\n",
              " 765: 'amjadshakoor.com',\n",
              " 766: 'amlex-consulting.com',\n",
              " 767: 'ammoplanet.com',\n",
              " 768: 'amordeimagenes.com',\n",
              " 769: 'amoresperros.com',\n",
              " 770: 'amothersjourneythroughaddiction.com',\n",
              " 771: 'amplifyingculture.com',\n",
              " 772: 'ampupmediamarketing.com',\n",
              " 773: 'amratya.com',\n",
              " 774: 'amyl0022.com',\n",
              " 775: 'amyl3362.com',\n",
              " 776: 'amylc888.com',\n",
              " 777: 'amyscustomdesign.com',\n",
              " 778: 'amzckh.com',\n",
              " 779: 'amznsecrets.com',\n",
              " 780: 'an399.com',\n",
              " 781: 'ana-shop.com',\n",
              " 782: 'anammajeed.com',\n",
              " 783: 'anamulhasan.com',\n",
              " 784: 'anandhospitallko.com',\n",
              " 785: 'anchorstainless.com',\n",
              " 786: 'andreabailey.com',\n",
              " 787: 'andreacardenas.com',\n",
              " 788: 'andreamesh.com',\n",
              " 789: 'andreaszantis.com',\n",
              " 790: 'andrestorres.com',\n",
              " 791: 'andrew-j-wong.com',\n",
              " 792: 'andrewandtasha.com',\n",
              " 793: 'andrewyao.com',\n",
              " 794: 'androidlbs.com',\n",
              " 795: 'androidoverdrive.com',\n",
              " 796: 'andrologia-online.com',\n",
              " 797: 'anemoiijewellery.com',\n",
              " 798: 'anewtox.com',\n",
              " 799: 'angelampark.com',\n",
              " 800: 'angelears.com',\n",
              " 801: 'angelohair.com',\n",
              " 802: 'anglercamping.com',\n",
              " 803: 'anglosaxon.com',\n",
              " 804: 'angrydigital.com',\n",
              " 805: 'aniaritrends.com',\n",
              " 806: 'animenette.com',\n",
              " 807: 'animepertutticdn1.com',\n",
              " 808: 'aniview.com',\n",
              " 809: 'anklenanny.com',\n",
              " 810: 'annahu.com',\n",
              " 811: 'annainusuki.com',\n",
              " 812: 'annieknechtrealestate.com',\n",
              " 813: 'anonymouspictures.com',\n",
              " 814: 'anonymoussponsor.com',\n",
              " 815: 'anotame.com',\n",
              " 816: 'ansaralandscape.com',\n",
              " 817: 'ansiadapalco.com',\n",
              " 818: 'ansleyphotofinish.com',\n",
              " 819: 'ansontrucks.com',\n",
              " 820: 'answerslive.com',\n",
              " 821: 'antava.com',\n",
              " 822: 'anthonysluxuryhomes.com',\n",
              " 823: 'anthromomology.com',\n",
              " 824: 'antibeauty.com',\n",
              " 825: 'antiquesconnection.com',\n",
              " 826: 'antiqueservice.com',\n",
              " 827: 'antiquestop.com',\n",
              " 828: 'antonioscelsa.com',\n",
              " 829: 'anuelectronics.com',\n",
              " 830: 'anvilartstudio.com',\n",
              " 831: 'anxiuwei.com',\n",
              " 832: 'any-time.com',\n",
              " 833: 'aotefy.com',\n",
              " 834: 'aparquear.com',\n",
              " 835: 'apartmentsiroka.com',\n",
              " 836: 'apcef-jf.com',\n",
              " 837: 'apge.com',\n",
              " 838: 'apollofrey.com',\n",
              " 839: 'apostleclinicaltrials.com',\n",
              " 840: 'apotospiti.com',\n",
              " 841: 'apparelnetwork.com',\n",
              " 842: 'apparelxpress.com',\n",
              " 843: 'appboard.com',\n",
              " 844: 'appentrepreneurs.com',\n",
              " 845: 'applidsec-review.com',\n",
              " 846: 'applytoearn.com',\n",
              " 847: 'appointmentpro.com',\n",
              " 848: 'appotato.com',\n",
              " 849: 'appplane.com',\n",
              " 850: 'appraisalvision.com',\n",
              " 851: 'approachmedia.com',\n",
              " 852: 'approvenow.com',\n",
              " 853: 'aprendendomatematica.com',\n",
              " 854: 'apricoruk.com',\n",
              " 855: 'apriloro.com',\n",
              " 856: 'apstooker.com',\n",
              " 857: 'aptilworks.com',\n",
              " 858: 'aptrucklines.com',\n",
              " 859: 'aqb981.com',\n",
              " 860: 'aquabotanical.com',\n",
              " 861: 'aquamarina.com',\n",
              " 862: 'aquariumbuilders.com',\n",
              " 863: 'aquariumsdirect.com',\n",
              " 864: 'aqueducttherapeutics.com',\n",
              " 865: 'aquende1.com',\n",
              " 866: 'ar-gp.com',\n",
              " 867: 'arabcrunch.com',\n",
              " 868: 'arainbowofjassy.com',\n",
              " 869: 'aravilla.com',\n",
              " 870: 'arborwoodpreservehome4sale.com',\n",
              " 871: 'arcadeclub.com',\n",
              " 872: 'arcadiawind.com',\n",
              " 873: 'archeodunum.com',\n",
              " 874: 'archicofradiadeguadalupe.com',\n",
              " 875: 'architettonica.com',\n",
              " 876: 'archivenews.com',\n",
              " 877: 'archstarter.com',\n",
              " 878: 'arekansas.com',\n",
              " 879: 'areyougrowing42.com',\n",
              " 880: 'argenis.com',\n",
              " 881: 'arguzs.com',\n",
              " 882: 'arianaanzures.com',\n",
              " 883: 'ariantesbeauty.com',\n",
              " 884: 'arkansashoghunters.com',\n",
              " 885: 'arkansassheetmetal.com',\n",
              " 886: 'arkfinancial.com',\n",
              " 887: 'arleenmark-artist.com',\n",
              " 888: 'armeriaexordinanza.com',\n",
              " 889: 'armpromo.com',\n",
              " 890: 'aromaeliquid.com',\n",
              " 891: 'aromatherapy-essentials.com',\n",
              " 892: 'aroundthebendpaint.com',\n",
              " 893: 'aroundthefootball.com',\n",
              " 894: 'aroundtheworldexperiences.com',\n",
              " 895: 'arquiteturaquecura.com',\n",
              " 896: 'arrangeexemption.com',\n",
              " 897: 'artandframe.com',\n",
              " 898: 'artbynataliefletcher.com',\n",
              " 899: 'artbypup.com',\n",
              " 900: 'artddo.com',\n",
              " 901: 'artesanador.com',\n",
              " 902: 'artesaniasdehenequen.com',\n",
              " 903: 'artesjcp.com',\n",
              " 904: 'artesliah.com',\n",
              " 905: 'artfulweddings.com',\n",
              " 906: 'arthurkaplanod.com',\n",
              " 907: 'artisanadancers.com',\n",
              " 908: 'artisandwellingunit.com',\n",
              " 909: 'artistgrowthsystem.com',\n",
              " 910: 'artontime.com',\n",
              " 911: 'artsaffect.com',\n",
              " 912: 'artssoflo.com',\n",
              " 913: 'artsupport.com',\n",
              " 914: 'arttable.com',\n",
              " 915: 'arttogether.com',\n",
              " 916: 'artyatri.com',\n",
              " 917: 'asaky.com',\n",
              " 918: 'asasservices.com',\n",
              " 919: 'ascendantrealty.com',\n",
              " 920: 'ascendi.com',\n",
              " 921: 'ascreenmagnifier.com',\n",
              " 922: 'aseko.com',\n",
              " 923: 'asesorauto.com',\n",
              " 924: 'ashantiandrus.com',\n",
              " 925: 'ashantrizingreviteliftskincream.com',\n",
              " 926: 'ashecig.com',\n",
              " 927: 'ashed.com',\n",
              " 928: 'ashfordheatingandair.com',\n",
              " 929: 'ashishmanagementgroup.com',\n",
              " 930: 'ashwanimehra.com',\n",
              " 931: 'asiame.com',\n",
              " 932: 'asian-hotels.com',\n",
              " 933: 'asiapharmacyuae.com',\n",
              " 934: 'asiapix.com',\n",
              " 935: 'asikoglusportesisleri.com',\n",
              " 936: 'askartie.com',\n",
              " 937: 'askmyagent.com',\n",
              " 938: 'askpratz.com',\n",
              " 939: 'askthebootguy.com',\n",
              " 940: 'asmpage.com',\n",
              " 941: 'aspenhomesmn.com',\n",
              " 942: 'asperafoundation.com',\n",
              " 943: 'asphaltsealcoating.com',\n",
              " 944: 'asphere.com',\n",
              " 945: 'assamwebhost.com',\n",
              " 946: 'assessoria-onlinequitacao.com',\n",
              " 947: 'assetpartners.com',\n",
              " 948: 'asstonkusher.com',\n",
              " 949: 'assurancesecurity.com',\n",
              " 950: 'assure360.com',\n",
              " 951: 'assuredassistance.com',\n",
              " 952: 'assyahidcollections.com',\n",
              " 953: 'asterdeal.com',\n",
              " 954: 'astroline.com',\n",
              " 955: 'astropets.com',\n",
              " 956: 'astroworld2020.com',\n",
              " 957: 'asystemofeverything.com',\n",
              " 958: 'atanara.com',\n",
              " 959: 'atesogluyapimarket.com',\n",
              " 960: 'ateyaholding.com',\n",
              " 961: 'athenadctest.com',\n",
              " 962: 'athensrust.com',\n",
              " 963: 'athleticapparel.com',\n",
              " 964: 'athleticsempire.com',\n",
              " 965: 'athomequalitycare.com',\n",
              " 966: 'atlagember.com',\n",
              " 967: 'atlanta-tennis-leagues.com',\n",
              " 968: 'atlantaduilawyer.com',\n",
              " 969: 'atlanticbaymortgagegroup.com',\n",
              " 970: 'atlanticcigars.com',\n",
              " 971: 'atlanticcoastmortgage.com',\n",
              " 972: 'atlantictek.com',\n",
              " 973: 'atlascontracting.com',\n",
              " 974: 'atm88.com',\n",
              " 975: 'atmmoneymachine.com',\n",
              " 976: 'atomyklabs.com',\n",
              " 977: 'atondevelopment.com',\n",
              " 978: 'atozoffetish.com',\n",
              " 979: 'atozrellieff.com',\n",
              " 980: 'attainableevents.com',\n",
              " 981: 'attakid.com',\n",
              " 982: 'attempt2quit.com',\n",
              " 983: 'attentionusa.com',\n",
              " 984: 'attorneyarlingtonva.com',\n",
              " 985: 'attorneykardashian.com',\n",
              " 986: 'attorneysearches.com',\n",
              " 987: 'attractionoflove.com',\n",
              " 988: 'auctionariff.com',\n",
              " 989: 'audiobitxchange.com',\n",
              " 990: 'audiocarplus.com',\n",
              " 991: 'audioincdesign.com',\n",
              " 992: 'audiovisuel.com',\n",
              " 993: 'auditadvisers.com',\n",
              " 994: 'auditlink.com',\n",
              " 995: 'auffenbergkia.com',\n",
              " 996: 'auionline.com',\n",
              " 997: 'auldfolkie.com',\n",
              " 998: 'aunipex.com',\n",
              " 999: 'auntiemidwife.com',\n",
              " ...}"
            ]
          },
          "metadata": {},
          "execution_count": 15
        }
      ]
    },
    {
      "cell_type": "code",
      "source": [
        "# train['Domain_label'] = genre_labels\n",
        "# train[['Domain','category','Domain_label']].iloc[1:7]"
      ],
      "metadata": {
        "id": "E5sHuNIGqFiy"
      },
      "execution_count": 33,
      "outputs": []
    },
    {
      "cell_type": "code",
      "source": [
        "from numpy.random import RandomState\n",
        "import pandas as pd\n",
        "\n",
        "rng = RandomState()\n",
        "\n",
        "train = train.sample(frac=0.7, random_state=rng)\n",
        "test = train.loc[~train.index.isin(train.index)]"
      ],
      "metadata": {
        "id": "F77bmfXyWr_1"
      },
      "execution_count": 32,
      "outputs": []
    },
    {
      "cell_type": "code",
      "source": [
        "train.info()"
      ],
      "metadata": {
        "id": "k49bdodsWsCi",
        "colab": {
          "base_uri": "https://localhost:8080/"
        },
        "outputId": "9cba2739-12d3-4c5d-fc64-f1419de22853"
      },
      "execution_count": 24,
      "outputs": [
        {
          "output_type": "stream",
          "name": "stdout",
          "text": [
            "<class 'pandas.core.frame.DataFrame'>\n",
            "Int64Index: 7000 entries, 5481 to 5839\n",
            "Data columns (total 2 columns):\n",
            " #   Column    Non-Null Count  Dtype \n",
            "---  ------    --------------  ----- \n",
            " 0   Domain    7000 non-null   object\n",
            " 1   category  7000 non-null   int64 \n",
            "dtypes: int64(1), object(1)\n",
            "memory usage: 164.1+ KB\n"
          ]
        }
      ]
    },
    {
      "cell_type": "code",
      "source": [
        "# test.info()"
      ],
      "metadata": {
        "id": "bDwX81o3WsEG"
      },
      "execution_count": 19,
      "outputs": []
    },
    {
      "cell_type": "code",
      "source": [
        "genres = np.unique(train['Domain'])\n",
        "genres"
      ],
      "metadata": {
        "id": "6RHzXYObWsGX",
        "colab": {
          "base_uri": "https://localhost:8080/"
        },
        "outputId": "5b94be01-4931-411c-a24c-596a099748a3"
      },
      "execution_count": 20,
      "outputs": [
        {
          "output_type": "execute_result",
          "data": {
            "text/plain": [
              "array(['006441.com', '01018.com', '012256.com', ..., 'zzap.com',\n",
              "       'zzc727.com', 'zzz13.com'], dtype=object)"
            ]
          },
          "metadata": {},
          "execution_count": 20
        }
      ]
    },
    {
      "cell_type": "code",
      "source": [
        "import numpy as np\n",
        "import pandas as pd\n",
        "\n",
        "import matplotlib.pyplot as plt\n",
        "import seaborn as sns\n",
        "\n",
        "from sklearn.linear_model import LinearRegression\n",
        "from sklearn.linear_model import LogisticRegression\n",
        "from sklearn.svm import SVR\n",
        "from sklearn.linear_model import SGDRegressor\n",
        "from sklearn.linear_model import BayesianRidge\n",
        "\n",
        "from sklearn.model_selection import train_test_split, cross_val_score\n",
        "from sklearn import metrics\n",
        "from sklearn.metrics import precision_recall_fscore_support"
      ],
      "metadata": {
        "id": "qObm0U0Nx-lW"
      },
      "execution_count": 21,
      "outputs": []
    },
    {
      "cell_type": "code",
      "source": [
        "train.describe()\n"
      ],
      "metadata": {
        "colab": {
          "base_uri": "https://localhost:8080/",
          "height": 300
        },
        "id": "gaMzF7Wjx-n2",
        "outputId": "d0e44766-7c0c-47ca-a728-d24ec1d00965"
      },
      "execution_count": 22,
      "outputs": [
        {
          "output_type": "execute_result",
          "data": {
            "text/plain": [
              "          category\n",
              "count  7000.000000\n",
              "mean      1.739143\n",
              "std       1.122557\n",
              "min       1.000000\n",
              "25%       1.000000\n",
              "50%       1.000000\n",
              "75%       2.000000\n",
              "max       5.000000"
            ],
            "text/html": [
              "\n",
              "  <div id=\"df-e06d63e9-1d21-4eee-89d3-3679922e3ffa\">\n",
              "    <div class=\"colab-df-container\">\n",
              "      <div>\n",
              "<style scoped>\n",
              "    .dataframe tbody tr th:only-of-type {\n",
              "        vertical-align: middle;\n",
              "    }\n",
              "\n",
              "    .dataframe tbody tr th {\n",
              "        vertical-align: top;\n",
              "    }\n",
              "\n",
              "    .dataframe thead th {\n",
              "        text-align: right;\n",
              "    }\n",
              "</style>\n",
              "<table border=\"1\" class=\"dataframe\">\n",
              "  <thead>\n",
              "    <tr style=\"text-align: right;\">\n",
              "      <th></th>\n",
              "      <th>category</th>\n",
              "    </tr>\n",
              "  </thead>\n",
              "  <tbody>\n",
              "    <tr>\n",
              "      <th>count</th>\n",
              "      <td>7000.000000</td>\n",
              "    </tr>\n",
              "    <tr>\n",
              "      <th>mean</th>\n",
              "      <td>1.739143</td>\n",
              "    </tr>\n",
              "    <tr>\n",
              "      <th>std</th>\n",
              "      <td>1.122557</td>\n",
              "    </tr>\n",
              "    <tr>\n",
              "      <th>min</th>\n",
              "      <td>1.000000</td>\n",
              "    </tr>\n",
              "    <tr>\n",
              "      <th>25%</th>\n",
              "      <td>1.000000</td>\n",
              "    </tr>\n",
              "    <tr>\n",
              "      <th>50%</th>\n",
              "      <td>1.000000</td>\n",
              "    </tr>\n",
              "    <tr>\n",
              "      <th>75%</th>\n",
              "      <td>2.000000</td>\n",
              "    </tr>\n",
              "    <tr>\n",
              "      <th>max</th>\n",
              "      <td>5.000000</td>\n",
              "    </tr>\n",
              "  </tbody>\n",
              "</table>\n",
              "</div>\n",
              "      <button class=\"colab-df-convert\" onclick=\"convertToInteractive('df-e06d63e9-1d21-4eee-89d3-3679922e3ffa')\"\n",
              "              title=\"Convert this dataframe to an interactive table.\"\n",
              "              style=\"display:none;\">\n",
              "        \n",
              "  <svg xmlns=\"http://www.w3.org/2000/svg\" height=\"24px\"viewBox=\"0 0 24 24\"\n",
              "       width=\"24px\">\n",
              "    <path d=\"M0 0h24v24H0V0z\" fill=\"none\"/>\n",
              "    <path d=\"M18.56 5.44l.94 2.06.94-2.06 2.06-.94-2.06-.94-.94-2.06-.94 2.06-2.06.94zm-11 1L8.5 8.5l.94-2.06 2.06-.94-2.06-.94L8.5 2.5l-.94 2.06-2.06.94zm10 10l.94 2.06.94-2.06 2.06-.94-2.06-.94-.94-2.06-.94 2.06-2.06.94z\"/><path d=\"M17.41 7.96l-1.37-1.37c-.4-.4-.92-.59-1.43-.59-.52 0-1.04.2-1.43.59L10.3 9.45l-7.72 7.72c-.78.78-.78 2.05 0 2.83L4 21.41c.39.39.9.59 1.41.59.51 0 1.02-.2 1.41-.59l7.78-7.78 2.81-2.81c.8-.78.8-2.07 0-2.86zM5.41 20L4 18.59l7.72-7.72 1.47 1.35L5.41 20z\"/>\n",
              "  </svg>\n",
              "      </button>\n",
              "      \n",
              "  <style>\n",
              "    .colab-df-container {\n",
              "      display:flex;\n",
              "      flex-wrap:wrap;\n",
              "      gap: 12px;\n",
              "    }\n",
              "\n",
              "    .colab-df-convert {\n",
              "      background-color: #E8F0FE;\n",
              "      border: none;\n",
              "      border-radius: 50%;\n",
              "      cursor: pointer;\n",
              "      display: none;\n",
              "      fill: #1967D2;\n",
              "      height: 32px;\n",
              "      padding: 0 0 0 0;\n",
              "      width: 32px;\n",
              "    }\n",
              "\n",
              "    .colab-df-convert:hover {\n",
              "      background-color: #E2EBFA;\n",
              "      box-shadow: 0px 1px 2px rgba(60, 64, 67, 0.3), 0px 1px 3px 1px rgba(60, 64, 67, 0.15);\n",
              "      fill: #174EA6;\n",
              "    }\n",
              "\n",
              "    [theme=dark] .colab-df-convert {\n",
              "      background-color: #3B4455;\n",
              "      fill: #D2E3FC;\n",
              "    }\n",
              "\n",
              "    [theme=dark] .colab-df-convert:hover {\n",
              "      background-color: #434B5C;\n",
              "      box-shadow: 0px 1px 3px 1px rgba(0, 0, 0, 0.15);\n",
              "      filter: drop-shadow(0px 1px 2px rgba(0, 0, 0, 0.3));\n",
              "      fill: #FFFFFF;\n",
              "    }\n",
              "  </style>\n",
              "\n",
              "      <script>\n",
              "        const buttonEl =\n",
              "          document.querySelector('#df-e06d63e9-1d21-4eee-89d3-3679922e3ffa button.colab-df-convert');\n",
              "        buttonEl.style.display =\n",
              "          google.colab.kernel.accessAllowed ? 'block' : 'none';\n",
              "\n",
              "        async function convertToInteractive(key) {\n",
              "          const element = document.querySelector('#df-e06d63e9-1d21-4eee-89d3-3679922e3ffa');\n",
              "          const dataTable =\n",
              "            await google.colab.kernel.invokeFunction('convertToInteractive',\n",
              "                                                     [key], {});\n",
              "          if (!dataTable) return;\n",
              "\n",
              "          const docLinkHtml = 'Like what you see? Visit the ' +\n",
              "            '<a target=\"_blank\" href=https://colab.research.google.com/notebooks/data_table.ipynb>data table notebook</a>'\n",
              "            + ' to learn more about interactive tables.';\n",
              "          element.innerHTML = '';\n",
              "          dataTable['output_type'] = 'display_data';\n",
              "          await google.colab.output.renderOutput(dataTable, element);\n",
              "          const docLink = document.createElement('div');\n",
              "          docLink.innerHTML = docLinkHtml;\n",
              "          element.appendChild(docLink);\n",
              "        }\n",
              "      </script>\n",
              "    </div>\n",
              "  </div>\n",
              "  "
            ]
          },
          "metadata": {},
          "execution_count": 22
        }
      ]
    },
    {
      "cell_type": "code",
      "source": [
        "# df['DataFrame Column'] = df['DataFrame Column'].astype(int)\n"
      ],
      "metadata": {
        "id": "KfoAExCJizZp"
      },
      "execution_count": null,
      "outputs": []
    },
    {
      "cell_type": "code",
      "source": [
        "train.plot(x='Domain', y='category', style='*')\n",
        "plt.title('Domain vs Domain Price Prediction')\n",
        "plt.xlabel('Domain')\n",
        "plt.ylabel('Domain Price Pridiction')\n",
        "plt.show()"
      ],
      "metadata": {
        "colab": {
          "base_uri": "https://localhost:8080/",
          "height": 535
        },
        "id": "XiCTfZeNx-uA",
        "outputId": "8f0bb427-2197-463d-f085-e7d6cbed640e"
      },
      "execution_count": 25,
      "outputs": [
        {
          "output_type": "display_data",
          "data": {
            "text/plain": [
              "<Figure size 1008x576 with 1 Axes>"
            ],
            "image/png": "[encoded data removed]"
          },
          "metadata": {}
        }
      ]
    },
    {
      "cell_type": "code",
      "source": [
        "train['Domain'] = pd.to_numeric(train['Domain'],errors='coerce').isnull()\n"
      ],
      "metadata": {
        "id": "NdEKafeEi9vV"
      },
      "execution_count": 37,
      "outputs": []
    },
    {
      "cell_type": "code",
      "source": [
        "X = train.iloc[:, :-1].values\n",
        "y = train.iloc[:, 1].values"
      ],
      "metadata": {
        "id": "NlGVngVux-wR"
      },
      "execution_count": 38,
      "outputs": []
    },
    {
      "cell_type": "code",
      "source": [
        "X_train, X_test, y_train, y_test = train_test_split(X, y, test_size=0.2, random_state=0)"
      ],
      "metadata": {
        "id": "ESa6aHMuzRAZ"
      },
      "execution_count": 39,
      "outputs": []
    },
    {
      "cell_type": "code",
      "source": [
        "def get_cv_scores(model):\n",
        "    scores = cross_val_score(model,\n",
        "                             X_train,\n",
        "                             y_train,\n",
        "                             cv=10,\n",
        "                             scoring='r2')\n",
        "    \n",
        "    print('CV Mean: ', np.mean(scores))\n",
        "    print('STD: ', np.std(scores))\n",
        "    print('\\n')"
      ],
      "metadata": {
        "id": "d6OcJ5QmzRDC"
      },
      "execution_count": 40,
      "outputs": []
    },
    {
      "cell_type": "code",
      "source": [
        "lr = LinearRegression().fit(X_train, y_train)\n",
        "get_cv_scores(lr)"
      ],
      "metadata": {
        "colab": {
          "base_uri": "https://localhost:8080/"
        },
        "id": "bC6wbyYQzeny",
        "outputId": "7d459fad-f179-483f-b424-62429c5607d8"
      },
      "execution_count": 41,
      "outputs": [
        {
          "output_type": "stream",
          "name": "stdout",
          "text": [
            "CV Mean:  -0.0012807751148996792\n",
            "STD:  0.001146976945354595\n",
            "\n",
            "\n"
          ]
        }
      ]
    },
    {
      "cell_type": "code",
      "source": [
        "print(lr.intercept_)\n",
        "print(lr.coef_)"
      ],
      "metadata": {
        "colab": {
          "base_uri": "https://localhost:8080/"
        },
        "id": "vtiKL7eGzep4",
        "outputId": "d2589700-e191-48b4-b8ac-5f04535e3cc9"
      },
      "execution_count": 42,
      "outputs": [
        {
          "output_type": "stream",
          "name": "stdout",
          "text": [
            "1.7323979591836736\n",
            "[0.]\n"
          ]
        }
      ]
    },
    {
      "cell_type": "code",
      "source": [
        "y_pred = lr.predict(X_test)"
      ],
      "metadata": {
        "id": "2yEgpLBCzesM"
      },
      "execution_count": 43,
      "outputs": []
    },
    {
      "cell_type": "code",
      "source": [
        "X_train.shape"
      ],
      "metadata": {
        "colab": {
          "base_uri": "https://localhost:8080/"
        },
        "id": "T4-d1bNT0Qka",
        "outputId": "60e614e5-147f-44f7-d96d-3c86d67ce5fc"
      },
      "execution_count": 44,
      "outputs": [
        {
          "output_type": "execute_result",
          "data": {
            "text/plain": [
              "(3920, 1)"
            ]
          },
          "metadata": {},
          "execution_count": 44
        }
      ]
    },
    {
      "cell_type": "code",
      "source": [
        "X_test.shape"
      ],
      "metadata": {
        "colab": {
          "base_uri": "https://localhost:8080/"
        },
        "id": "MMhmMvHHocgn",
        "outputId": "02c07637-b66e-4d60-be1f-a8258dbef724"
      },
      "execution_count": 50,
      "outputs": [
        {
          "output_type": "execute_result",
          "data": {
            "text/plain": [
              "(980, 1)"
            ]
          },
          "metadata": {},
          "execution_count": 50
        }
      ]
    },
    {
      "cell_type": "code",
      "source": [
        "y_test.shape"
      ],
      "metadata": {
        "colab": {
          "base_uri": "https://localhost:8080/"
        },
        "id": "2uREgHB20Vmv",
        "outputId": "0fab1c5d-b3ec-4e63-c843-7f432af39a62"
      },
      "execution_count": 45,
      "outputs": [
        {
          "output_type": "execute_result",
          "data": {
            "text/plain": [
              "(980,)"
            ]
          },
          "metadata": {},
          "execution_count": 45
        }
      ]
    },
    {
      "cell_type": "code",
      "source": [
        "plt.scatter(X_test, y_test)\n",
        "plt.plot(X_test, y_pred, color='red')\n",
        "plt.xlabel('Domain')\n",
        "plt.ylabel('Domain_Price')\n",
        "plt.title('Domain vs Domain_Price')\n",
        "plt.show()"
      ],
      "metadata": {
        "colab": {
          "base_uri": "https://localhost:8080/",
          "height": 535
        },
        "id": "_iTUmDfNzp8D",
        "outputId": "69c39827-035b-4e89-eba5-80a0327f188e"
      },
      "execution_count": 52,
      "outputs": [
        {
          "output_type": "display_data",
          "data": {
            "text/plain": [
              "<Figure size 1008x576 with 1 Axes>"
            ],
            "image/png": "[encoded data removed]"
          },
          "metadata": {}
        }
      ]
    },
    {
      "cell_type": "code",
      "source": [
        "df = pd.DataFrame({'Actual': y_test, 'Predicted': y_pred})\n",
        "df.head()"
      ],
      "metadata": {
        "colab": {
          "base_uri": "https://localhost:8080/",
          "height": 206
        },
        "id": "IRrUQy8-0Fzx",
        "outputId": "071ecc88-51d8-417b-e6ce-c1305b468d97"
      },
      "execution_count": 47,
      "outputs": [
        {
          "output_type": "execute_result",
          "data": {
            "text/plain": [
              "   Actual  Predicted\n",
              "0       4   1.732398\n",
              "1       1   1.732398\n",
              "2       1   1.732398\n",
              "3       1   1.732398\n",
              "4       1   1.732398"
            ],
            "text/html": [
              "\n",
              "  <div id=\"df-b5171add-dd4e-40bf-9bac-55f90e4700cb\">\n",
              "    <div class=\"colab-df-container\">\n",
              "      <div>\n",
              "<style scoped>\n",
              "    .dataframe tbody tr th:only-of-type {\n",
              "        vertical-align: middle;\n",
              "    }\n",
              "\n",
              "    .dataframe tbody tr th {\n",
              "        vertical-align: top;\n",
              "    }\n",
              "\n",
              "    .dataframe thead th {\n",
              "        text-align: right;\n",
              "    }\n",
              "</style>\n",
              "<table border=\"1\" class=\"dataframe\">\n",
              "  <thead>\n",
              "    <tr style=\"text-align: right;\">\n",
              "      <th></th>\n",
              "      <th>Actual</th>\n",
              "      <th>Predicted</th>\n",
              "    </tr>\n",
              "  </thead>\n",
              "  <tbody>\n",
              "    <tr>\n",
              "      <th>0</th>\n",
              "      <td>4</td>\n",
              "      <td>1.732398</td>\n",
              "    </tr>\n",
              "    <tr>\n",
              "      <th>1</th>\n",
              "      <td>1</td>\n",
              "      <td>1.732398</td>\n",
              "    </tr>\n",
              "    <tr>\n",
              "      <th>2</th>\n",
              "      <td>1</td>\n",
              "      <td>1.732398</td>\n",
              "    </tr>\n",
              "    <tr>\n",
              "      <th>3</th>\n",
              "      <td>1</td>\n",
              "      <td>1.732398</td>\n",
              "    </tr>\n",
              "    <tr>\n",
              "      <th>4</th>\n",
              "      <td>1</td>\n",
              "      <td>1.732398</td>\n",
              "    </tr>\n",
              "  </tbody>\n",
              "</table>\n",
              "</div>\n",
              "      <button class=\"colab-df-convert\" onclick=\"convertToInteractive('df-b5171add-dd4e-40bf-9bac-55f90e4700cb')\"\n",
              "              title=\"Convert this dataframe to an interactive table.\"\n",
              "              style=\"display:none;\">\n",
              "        \n",
              "  <svg xmlns=\"http://www.w3.org/2000/svg\" height=\"24px\"viewBox=\"0 0 24 24\"\n",
              "       width=\"24px\">\n",
              "    <path d=\"M0 0h24v24H0V0z\" fill=\"none\"/>\n",
              "    <path d=\"M18.56 5.44l.94 2.06.94-2.06 2.06-.94-2.06-.94-.94-2.06-.94 2.06-2.06.94zm-11 1L8.5 8.5l.94-2.06 2.06-.94-2.06-.94L8.5 2.5l-.94 2.06-2.06.94zm10 10l.94 2.06.94-2.06 2.06-.94-2.06-.94-.94-2.06-.94 2.06-2.06.94z\"/><path d=\"M17.41 7.96l-1.37-1.37c-.4-.4-.92-.59-1.43-.59-.52 0-1.04.2-1.43.59L10.3 9.45l-7.72 7.72c-.78.78-.78 2.05 0 2.83L4 21.41c.39.39.9.59 1.41.59.51 0 1.02-.2 1.41-.59l7.78-7.78 2.81-2.81c.8-.78.8-2.07 0-2.86zM5.41 20L4 18.59l7.72-7.72 1.47 1.35L5.41 20z\"/>\n",
              "  </svg>\n",
              "      </button>\n",
              "      \n",
              "  <style>\n",
              "    .colab-df-container {\n",
              "      display:flex;\n",
              "      flex-wrap:wrap;\n",
              "      gap: 12px;\n",
              "    }\n",
              "\n",
              "    .colab-df-convert {\n",
              "      background-color: #E8F0FE;\n",
              "      border: none;\n",
              "      border-radius: 50%;\n",
              "      cursor: pointer;\n",
              "      display: none;\n",
              "      fill: #1967D2;\n",
              "      height: 32px;\n",
              "      padding: 0 0 0 0;\n",
              "      width: 32px;\n",
              "    }\n",
              "\n",
              "    .colab-df-convert:hover {\n",
              "      background-color: #E2EBFA;\n",
              "      box-shadow: 0px 1px 2px rgba(60, 64, 67, 0.3), 0px 1px 3px 1px rgba(60, 64, 67, 0.15);\n",
              "      fill: #174EA6;\n",
              "    }\n",
              "\n",
              "    [theme=dark] .colab-df-convert {\n",
              "      background-color: #3B4455;\n",
              "      fill: #D2E3FC;\n",
              "    }\n",
              "\n",
              "    [theme=dark] .colab-df-convert:hover {\n",
              "      background-color: #434B5C;\n",
              "      box-shadow: 0px 1px 3px 1px rgba(0, 0, 0, 0.15);\n",
              "      filter: drop-shadow(0px 1px 2px rgba(0, 0, 0, 0.3));\n",
              "      fill: #FFFFFF;\n",
              "    }\n",
              "  </style>\n",
              "\n",
              "      <script>\n",
              "        const buttonEl =\n",
              "          document.querySelector('#df-b5171add-dd4e-40bf-9bac-55f90e4700cb button.colab-df-convert');\n",
              "        buttonEl.style.display =\n",
              "          google.colab.kernel.accessAllowed ? 'block' : 'none';\n",
              "\n",
              "        async function convertToInteractive(key) {\n",
              "          const element = document.querySelector('#df-b5171add-dd4e-40bf-9bac-55f90e4700cb');\n",
              "          const dataTable =\n",
              "            await google.colab.kernel.invokeFunction('convertToInteractive',\n",
              "                                                     [key], {});\n",
              "          if (!dataTable) return;\n",
              "\n",
              "          const docLinkHtml = 'Like what you see? Visit the ' +\n",
              "            '<a target=\"_blank\" href=https://colab.research.google.com/notebooks/data_table.ipynb>data table notebook</a>'\n",
              "            + ' to learn more about interactive tables.';\n",
              "          element.innerHTML = '';\n",
              "          dataTable['output_type'] = 'display_data';\n",
              "          await google.colab.output.renderOutput(dataTable, element);\n",
              "          const docLink = document.createElement('div');\n",
              "          docLink.innerHTML = docLinkHtml;\n",
              "          element.appendChild(docLink);\n",
              "        }\n",
              "      </script>\n",
              "    </div>\n",
              "  </div>\n",
              "  "
            ]
          },
          "metadata": {},
          "execution_count": 47
        }
      ]
    },
    {
      "cell_type": "code",
      "source": [
        "print('Mean Absolute Error:', metrics.mean_absolute_error(y_test, y_pred))\n",
        "print('Mean Squared Error:', metrics.mean_squared_error(y_test, y_pred))\n",
        "print('Root Mean Squared Error:', np.sqrt(metrics.mean_squared_error(y_test, y_pred)))"
      ],
      "metadata": {
        "colab": {
          "base_uri": "https://localhost:8080/"
        },
        "id": "F86Ct4-E1Y86",
        "outputId": "5b967a95-86db-45d1-c98c-633e2d6322bd"
      },
      "execution_count": 48,
      "outputs": [
        {
          "output_type": "stream",
          "name": "stdout",
          "text": [
            "Mean Absolute Error: 0.9077759266972094\n",
            "Mean Squared Error: 1.3321902983132026\n",
            "Root Mean Squared Error: 1.154205483574395\n"
          ]
        }
      ]
    },
    {
      "cell_type": "code",
      "source": [],
      "metadata": {
        "id": "_3g0ZWFd1gfP"
      },
      "execution_count": null,
      "outputs": []
    }
  ]
}